{
 "cells": [
  {
   "cell_type": "code",
   "execution_count": 1,
   "id": "8a5cd349-f2a2-450d-ae19-c7bb387022d9",
   "metadata": {},
   "outputs": [],
   "source": [
    "import openpyxl\n",
    "import openai\n",
    "import time\n",
    "from tqdm import tqdm\n",
    "import pandas as pd"
   ]
  },
  {
   "cell_type": "markdown",
   "id": "e03fb45f-71d5-4826-9f21-f72385a0284d",
   "metadata": {},
   "source": [
    "# Topic Generation"
   ]
  },
  {
   "cell_type": "code",
   "execution_count": 161,
   "id": "f528685b-5daf-4f01-9951-4ab080de198f",
   "metadata": {},
   "outputs": [],
   "source": [
    "def return_prompt(ipt, document):\n",
    "    prompt = ipt.replace(\"{DOCUMENT}\", document)\n",
    "    return prompt"
   ]
  },
  {
   "cell_type": "code",
   "execution_count": null,
   "id": "019e08c5-31f6-4bf9-9897-5a02daf3b08b",
   "metadata": {},
   "outputs": [],
   "source": [
    "data = 'data/topic_modeling_data.csv'\n",
    "df = pd.read_csv(data, encoding = 'latin-1', sep=',')\n",
    "\n",
    "prompt = open(r\"prompts/topic_generation_prompt.txt\", 'r')\n",
    "prompt = prompt.read()"
   ]
  },
  {
   "cell_type": "code",
   "execution_count": 163,
   "id": "00e11723-24ee-4f1f-979c-f7ed2be08820",
   "metadata": {},
   "outputs": [],
   "source": [
    "document = ''\n",
    "for i in range(0, 11, 1):\n",
    "    doc = df.loc[i, 'Text']\n",
    "    document += f'Document {i + 1}: {doc} \\n'"
   ]
  },
  {
   "cell_type": "code",
   "execution_count": 164,
   "id": "3c246b6c-2df5-4824-992f-bca7c5b8522e",
   "metadata": {},
   "outputs": [],
   "source": [
    "full_prompt = return_prompt(prompt, document)"
   ]
  },
  {
   "cell_type": "code",
   "execution_count": 165,
   "id": "54cb12d4-fccb-4f55-8389-b30ba4d83bbd",
   "metadata": {},
   "outputs": [],
   "source": [
    "# full_prompt"
   ]
  },
  {
   "cell_type": "code",
   "execution_count": null,
   "id": "080ef205-0925-4db2-837c-45ecd4265f1c",
   "metadata": {},
   "outputs": [],
   "source": [
    "# Set your OpenAI API key\n",
    "openai.api_key = ''"
   ]
  },
  {
   "cell_type": "code",
   "execution_count": null,
   "id": "c31094ba-83ca-4ad9-8d7d-7cdd9c495c58",
   "metadata": {},
   "outputs": [],
   "source": []
  },
  {
   "cell_type": "code",
   "execution_count": null,
   "id": "7b5377c2-e4ae-4e20-8b16-f8cef083d45b",
   "metadata": {},
   "outputs": [],
   "source": [
    "response = openai.ChatCompletion.create(\n",
    "    model=\"gpt-4o-mini\",\n",
    "    messages=[\n",
    "        {\"role\": \"system\", \"content\": \"You are a helpful assistant.\"},\n",
    "        {\"role\": \"user\", \"content\": full_prompt}\n",
    "    ],\n",
    "    temperature=0.01,\n",
    "    max_tokens=5000\n",
    ")\n"
   ]
  },
  {
   "cell_type": "code",
   "execution_count": 168,
   "id": "3730ab6b-d70a-4582-9c6d-cb61ad4f1d70",
   "metadata": {},
   "outputs": [],
   "source": [
    "topic_list=response.choices[0].message.content"
   ]
  },
  {
   "cell_type": "code",
   "execution_count": 169,
   "id": "4ab14476-92b9-4dc2-8a1e-b8ade2d62fcb",
   "metadata": {},
   "outputs": [
    {
     "data": {
      "text/plain": [
       "'Based on the documents provided, the following top-level topics have been identified:\\n\\n1. **Education**\\n   - Description: This topic encompasses various aspects of the educational process, including instructional strategies, curriculum development, assessment methods, professional development for educators, student performance tracking, and educational objectives and goals alignment with standards.\\n\\n2. **Student Assessment and Achievement**\\n   - Description: This topic covers the processes and methodologies involved in evaluating student performance, including standardized testing, reading assessments, and other forms of academic evaluation. It also includes strategies for improving student achievement levels in core subjects like math, ELA, and science.\\n\\n3. **Professional Development**\\n   - Description: This topic involves the continuous education and skill development of teachers and educational staff, including the implementation of best teaching practices, collaboration among educators, and the use of technology and data to enhance teaching effectiveness.\\n\\n4. **Curriculum and Instruction**\\n   - Description: This topic focuses on the design, implementation, and evaluation of educational curricula and instructional materials. It includes the alignment of curriculum with educational standards, the development of instructional strategies to meet diverse learning needs, and the integration of technology into the learning environment.\\n\\n5. **School Improvement Planning**\\n   - Description: This topic covers the strategic planning processes schools undertake to improve academic performance and operational efficiency. It includes setting and aligning goals with educational standards, data-driven decision-making, and the implementation of interventions and supports to meet educational objectives.\\n\\n6. **Behavioral Interventions and Supports**\\n   - Description: This topic addresses strategies and programs designed to improve student behavior and create positive school environments. It includes the implementation of Positive Behavior Interventions and Supports (PBIS), discipline management strategies, and efforts to increase student engagement and accountability.\\n\\n7. **Parent and Community Engagement**\\n   - Description: This topic involves strategies and practices for involving parents and the community in the educational process. It includes parent-teacher communication, community partnerships to support student achievement, and stakeholder involvement in school decision-making processes.\\n\\n8. **Educational Technology**\\n   - Description: This topic covers the use of technology in educational settings, including the implementation of digital tools and resources to support teaching and learning, the use of assessment technologies, and the training of educators in effective technology integration.\\n\\nThese topics provide a comprehensive overview of the generalizable areas covered in the documents, reflecting the broad spectrum of considerations in educational planning, implementation, and evaluation.'"
      ]
     },
     "execution_count": 169,
     "metadata": {},
     "output_type": "execute_result"
    }
   ],
   "source": [
    "topic_list"
   ]
  },
  {
   "cell_type": "code",
   "execution_count": 128,
   "id": "9be66384-a68a-4740-ba1c-dcfeef4b0fae",
   "metadata": {},
   "outputs": [
    {
     "data": {
      "text/plain": [
       "4283"
      ]
     },
     "execution_count": 128,
     "metadata": {},
     "output_type": "execute_result"
    }
   ],
   "source": [
    "word_count = len(full_prompt.split())\n",
    "word_count"
   ]
  },
  {
   "cell_type": "code",
   "execution_count": 170,
   "id": "65a9544c-bbcd-4e8f-a993-0babc57e0d42",
   "metadata": {},
   "outputs": [],
   "source": [
    "with open('prompts/Stage-1_LLM_topic_list00.txt', 'w') as file:\n",
    "    file.write(topic_list)"
   ]
  },
  {
   "cell_type": "markdown",
   "id": "7790fb0e-59c1-4357-ae0d-7d8a39fd6ec6",
   "metadata": {},
   "source": [
    "## individual documents"
   ]
  },
  {
   "cell_type": "code",
   "execution_count": 53,
   "id": "98ad2acf-f8e9-4fb0-ae61-e5001b2226f5",
   "metadata": {},
   "outputs": [],
   "source": [
    "topic_list = []\n",
    "for i in range(len(df)):\n",
    "    doc = df.loc[i, 'Text']\n",
    "    full_prompt = return_prompt(prompt, doc)\n",
    "    response = openai.ChatCompletion.create(\n",
    "        model=\"gpt-4o-mini\",\n",
    "        messages=[\n",
    "            {\"role\": \"system\", \"content\": \"You are a helpful assistant.\"},\n",
    "            {\"role\": \"user\", \"content\": full_prompt}\n",
    "        ],\n",
    "        temperature=0.2,\n",
    "        max_tokens=4000\n",
    "    )\n",
    "    topic = response.choices[0].message.content\n",
    "    df.loc[i, 'Topic'] = topic\n",
    "    topic_list.append(topic)\n",
    "    "
   ]
  },
  {
   "cell_type": "code",
   "execution_count": 54,
   "id": "e7331547-8af8-4adc-9d14-84e7fcff2461",
   "metadata": {},
   "outputs": [
    {
     "data": {
      "text/plain": [
       "['1. **Education Performance Metrics**\\n   - Description: This topic covers the measurement and analysis of student performance in various academic areas, including math, ELA (English Language Arts), and science. It involves tracking proficiency levels, graduation rates, and comparative rankings among districts.\\n\\n2. **Student Support Programs**\\n   - Description: This topic encompasses programs and objectives aimed at improving the educational outcomes of specific student groups, such as those eligible for free or reduced lunch and students with IEPs (Individualized Education Programs). It includes strategies for increasing proficiency in core academic areas.\\n\\n3. **Academic Improvement Strategies**\\n   - Description: Strategies and objectives focused on enhancing the academic performance of students across various subjects. This includes setting specific targets for improvement in state testing scores and rankings compared to other districts.\\n\\n4. **Data Analysis and Reporting**\\n   - Description: The process of collecting, analyzing, and reporting data related to student performance on state testing and other metrics. This includes annual comparisons and tracking progress over time for cohort groups of students.',\n",
       " '1. **Education Assessment**\\n   - **Description**: This topic encompasses the methods and tools used for evaluating student performance and achievement in educational settings. It includes reading and math assessments, standards-based grading, and the use of specific benchmarks and tests to measure academic progress.\\n\\n2. **Academic Goals**\\n   - **Description**: This topic refers to the specific objectives set by educational institutions or programs related to student achievement and performance. It includes setting targets for reading and math proficiency, as well as broader educational outcomes.\\n\\n3. **Educational Standards**\\n   - **Description**: This topic covers the guidelines and benchmarks used to measure and guide student learning and achievement. It includes state standards, promotion expectations, and the criteria for assessing student readiness for the next grade level.\\n\\n4. **Student Achievement**\\n   - **Description**: This topic focuses on the outcomes of educational processes, specifically the level of success that students achieve in their academic endeavors. It includes proficiency levels in reading and math, as well as overall academic performance.\\n\\n5. **Educational Strategies**\\n   - **Description**: This topic involves the approaches and methods used by educational institutions to improve student learning and achievement. It includes the implementation of standards-based grading and the use of specific assessments and benchmarks to track student progress.\\n\\n6. **School Culture**\\n   - **Description**: This topic relates to the environment and ethos within educational institutions that support learning and academic achievement. It includes fostering a culture of collaboration, accountability, and innovation to achieve educational goals.',\n",
       " \"1. Education\\n   - Description: Topics related to the process of teaching and learning, including specific programs, goals, and metrics for success in academic environments.\\n\\n2. Student Behavior\\n   - Description: Concerns the management and transformation of student behavior from non-compliance to independence, highlighting strategies and outcomes.\\n\\n3. Academic Performance\\n   - Description: Focuses on the measurement and improvement of students' skills in specific subjects, such as reading, and overall academic achievements like graduation rates.\",\n",
       " '1. **Educational Strategies**\\n   - Description: General approaches and methodologies used in teaching to enhance student learning and academic performance.\\n\\n2. **Professional Development**\\n   - Description: Activities and programs designed to enhance the professional skills, knowledge, and effectiveness of educators.\\n\\n3. **Classroom Management**\\n   - Description: Techniques and strategies used by teachers to maintain a productive learning environment and manage student behavior effectively.\\n\\n4. **Educator Evaluation**\\n   - Description: Processes and criteria used to assess the performance and effectiveness of teachers and educational staff.\\n\\n5. **Technology Integration**\\n   - Description: The incorporation of technology resources and tools into teaching and learning processes.\\n\\n6. **Curriculum Development**\\n   - Description: The process of designing, implementing, and evaluating the curriculum to meet educational standards and student needs.\\n\\n7. **Assessment and Evaluation**\\n   - Description: Methods and tools used to measure and evaluate student learning, academic achievement, and instructional effectiveness.\\n\\n8. **Reading Initiatives**\\n   - Description: Programs and strategies aimed at improving literacy and reading skills among students.\\n\\n9. **Academic Improvement**\\n   - Description: Efforts and initiatives focused on enhancing the academic performance and learning outcomes of students.\\n\\n10. **School Culture**\\n    - Description: The beliefs, perceptions, relationships, attitudes, and written and unwritten rules that shape and influence every aspect of how a school functions.',\n",
       " 'None',\n",
       " '1. Education\\n   - Description: Topics related to the goals, strategies, and measurements within an educational setting, including attendance, reading comprehension, math problem-solving, and critical thinking skills development.\\n\\n2. Assessment and Evaluation\\n   - Description: Topics related to the methods and tools used for measuring student progress and achievement, including the use of specific assessments like the DRA2 and pre- and post-tests in math.\\n\\n3. Community and Family Engagement\\n   - Description: Topics related to the involvement of families and community partners in supporting student achievement and educational goals.\\n\\n4. School Safety\\n   - Description: Topics related to creating and maintaining a safe and secure environment for students within the school setting.\\n\\n5. Student Support Services\\n   - Description: Topics related to the implementation of support systems for students, such as multi-tiered systems of support, to enhance educational outcomes.',\n",
       " '1. **Educational Goals and Objectives**\\n   - Description: Broad objectives set by educational institutions or educators to improve academic outcomes and teaching practices.\\n\\n2. **Curriculum and Assessment**\\n   - Description: The development, evaluation, and alignment of curriculum and assessments with academic standards to measure and enhance student learning.\\n\\n3. **Professional Development**\\n   - Description: Activities and programs designed to enhance the professional skills, knowledge, and effectiveness of educators.\\n\\n4. **Instructional Strategies**\\n   - Description: Methods and techniques used by educators to facilitate learning and improve student engagement, critical thinking, and problem-solving skills.\\n\\n5. **Student Assessment**\\n   - Description: Processes and tools used to evaluate student learning, skills, understanding, and academic performance.\\n\\n6. **Behavior Intervention**\\n   - Description: Strategies and supports implemented to improve student behavior and establish a positive school culture and environment.\\n\\n7. **Educational Technology**\\n   - Description: The use of technology tools and applications to support and improve teaching practices and student learning outcomes.',\n",
       " 'None',\n",
       " '1. Education\\n   - Description: This topic covers aspects related to teaching methods, professional development for teachers, and instructional strategies within educational institutions.\\n\\n2. Professional Development\\n   - Description: Focuses on activities and strategies aimed at improving professional skills and knowledge, particularly in the context of educators and administrative staff in educational settings.\\n\\n3. Administrative Practices\\n   - Description: Encompasses the management and organizational strategies employed by educational administrators, including the scheduling and facilitation of professional development activities.\\n\\n4. Leadership and Collaboration\\n   - Description: Pertains to the cultivation of leadership qualities and collaborative efforts among educators and administrators to enhance learning environments and educational outcomes.',\n",
       " '1. Education\\n   - Description: Topics related to the academic and instructional aspects of schooling, including curriculum design, teaching competence, and educational goals.\\n\\n2. Student Performance\\n   - Description: Focuses on the achievements and assessments of students in various subjects such as English Language Arts, Math, and Science.\\n\\n3. Attendance\\n   - Description: Concerns the tracking and goals related to student attendance rates.\\n\\n4. Parent Involvement\\n   - Description: Involves strategies and goals to increase parental participation in educational programs and school activities.\\n\\n5. Discipline\\n   - Description: Covers the management of student behavior and the implementation of disciplinary actions.\\n\\n6. Community Involvement\\n   - Description: Strategies and objectives aimed at enhancing the involvement of students, parents, and the community in educational programs.\\n\\n7. Instructional Resources\\n   - Description: Pertains to the provision and maintenance of educational materials, support services, and facilities to support learning.',\n",
       " '1. **Educational Assessment**\\n   - Description: This topic covers the use of tools and data analysis for evaluating student performance and instructional effectiveness. It includes the implementation of new assessment tools, analysis of assessment data, and the use of this data to inform instructional strategies.\\n\\n2. **Instructional Strategies**\\n   - Description: Strategies and methods used to enhance teaching and learning. This includes the development of community among instructional leaders, the creation of small and whole group instruction, and the application of specific academic strategies to improve student achievement.\\n\\n3. **Student Achievement**\\n   - Description: Measures and goals related to student performance in academic areas such as Math and ELA. This includes setting targets for proficiency and advanced scores on standardized tests, improving literacy, and increasing overall student achievement metrics.\\n\\n4. **Professional Development**\\n   - Description: The process of improving and increasing the capabilities of staff through access to education and training opportunities in the workplace, through outside organization, or through watching others perform the job.\\n\\n5. **School Community Engagement**\\n   - Description: Efforts to involve parents and stakeholders in the educational process, including the establishment of committees to analyze data and contribute to decision-making.\\n\\n6. **Standardized Testing**\\n   - Description: The use of standardized tests such as MAP (Measures of Academic Progress), EOC (End of Course), and ACT tests to assess student performance and school effectiveness. This includes goals for improving scores and comparisons to state averages.\\n\\n7. **Academic Standards**\\n   - Description: The expectations set for what students should know and be able to do at each grade level in various subjects. This includes the use of standards to guide instruction and assessment.\\n\\n8. **Data-Driven Decision Making**\\n   - Description: The process of making decisions based on the analysis of data rather than intuition or observation alone. This includes the disaggregation of data to inform instructional decisions and policy.\\n\\n9. **College and Career Readiness**\\n   - Description: Preparing students for success in postsecondary education and employment. This includes indicators of readiness and efforts to increase the number of students meeting these indicators.',\n",
       " '1. **Education Training**\\n   - Description: Training programs and methodologies for teachers, including specific models and tools for behavior management and instructional strategies.\\n\\n2. **Goal Setting and Measurement**\\n   - Description: The process of establishing objectives, particularly in educational settings, and the methods used to measure progress towards these goals.\\n\\n3. **Educational Assessment**\\n   - Description: Systems and tools used to evaluate student performance and learning outcomes, including specific programs like ReadyMath and Evaluate.\\n\\n4. **Teacher Support and Development**\\n   - Description: Strategies and measures to support, develop, and retain teaching staff, including surveys to gauge teacher satisfaction and support mechanisms.\\n\\n5. **Student Behavior Management**\\n   - Description: Approaches and goals related to managing student behavior, including reducing office referrals and promoting positive behaviors.\\n\\n6. **Collaborative Learning**\\n   - Description: Practices and goals aimed at enhancing learning through collaboration among educators, including sharing data and strategies for student achievement.\\n\\n7. **Leadership and Character Development**\\n   - Description: Efforts to promote leadership qualities and character development within the educational context, both among students and staff.\\n\\n8. **Data-Driven Instruction**\\n   - Description: The use of educational data to inform teaching practices and strategies, specifically through the analysis of specific assessment tools.\\n\\n9. **Staff Recruitment and Retention**\\n   - Description: The processes involved in attracting, developing, and retaining qualified educational staff, including the evaluation of staff satisfaction and support.',\n",
       " '1. **Education Performance**\\n   - **Description**: This topic encompasses the academic achievements and benchmarks of students, including proficiency in reading and math, as well as overall performance on standardized assessments like the STAR Screener.\\n\\n2. **Attendance**\\n   - **Description**: This topic covers the expectations and statistics related to student attendance, including daily attendance rates and annual average daily attendance (ADA) percentages.\\n\\n3. **Student Behavior and Social Skills**\\n   - **Description**: This topic includes information on student behavior, office referrals, and the support provided for developing social skills, as well as interventions for improving student attitudes and behaviors.\\n\\n4. **Academic Interventions**\\n   - **Description**: This topic focuses on the strategies and supports in place to assist students in achieving academic success, including Tier 1 and 2 levels of Student Intervention support and the construction and justification of arguments using evidence.\\n\\n5. **Data Analysis and Reporting**\\n   - **Description**: This topic involves the collection, analysis, and sharing of educational data, such as ELA and Math scores, attendance records, and discipline reports, through various platforms including Google Docs and spreadsheets.',\n",
       " \"1. **Education Assessment**\\n   - Description: The process and methods used to measure student performance and learning outcomes, including the use of MAP scores and state-required tests.\\n\\n2. **Curriculum Development**\\n   - Description: The creation and organization of educational content and learning experiences in subjects such as Math, English Language Arts, and Science.\\n\\n3. **Behavioral Intervention**\\n   - Description: Strategies and systems implemented to promote positive behavior among students, including Positive Behavior Intervention Systems (PBIS).\\n\\n4. **Professional Development**\\n   - Description: Training and education provided to staff, including Dyslexia training and PBIS training, to enhance their skills and effectiveness in the classroom.\\n\\n5. **Student Support Services**\\n   - Description: Services and interventions aimed at supporting students' academic and behavioral needs, including at-risk student identification and support plans.\\n\\n6. **School Culture**\\n   - Description: Efforts and strategies to establish a positive and inclusive culture within a school, focusing on character and behavioral expectations.\\n\\n7. **Attendance Management**\\n   - Description: Processes and strategies to monitor and communicate student attendance, aiming to maintain high attendance rates.\\n\\n8. **Data Analysis and Reporting**\\n   - Description: The collection, analysis, and reporting of student performance data to inform teaching practices and improve student outcomes.\",\n",
       " \"1. **Education Systems**\\n   - Description: This topic encompasses the structure and practices within educational institutions aimed at supporting student academic success and teacher development. It includes subtopics such as academic support, grading practices, curriculum development, and teacher leadership roles.\\n\\n2. **Student Support**\\n   - Description: This topic covers the various strategies and systems put in place to support students' academic and emotional needs. It includes academic enrichment, relationship building, trauma awareness, and diversity education.\\n\\n3. **Teacher Development**\\n   - Description: This topic focuses on the professional growth and leadership opportunities for teachers. It includes professional learning communities (PLCs), diversity training, digital citizenship, and the establishment of leadership roles within the educational community.\\n\\n4. **Community Engagement**\\n   - Description: This topic involves the efforts to involve parents and the wider community in the educational process. It includes parent-teacher organizations (PTOs), community involvement in schools, and shared vision creation for school improvement.\\n\\n5. **Assessment and Feedback**\\n   - Description: This topic deals with the methods and practices used to evaluate student learning and teacher effectiveness. It includes pre/post assessments, the use of non-academic traits like grit scores, and feedback mechanisms such as PLC discussions and teacher evaluations.\",\n",
       " '- Education\\n  - Description: Topics related to teaching methods, curriculum development, student engagement strategies, and educational planning within a school district.\\n  \\n- Community Engagement\\n  - Description: Strategies and plans for involving the local community, parents, and other stakeholders in the educational process and school activities.\\n  \\n- Student Readiness\\n  - Description: Initiatives aimed at preparing students for future endeavors such as college, workforce entry, and other post-secondary opportunities through exposure and experiences.\\n  \\n- Organizational Culture\\n  - Description: Efforts to create a supportive, united, and positive culture within the school among staff and students, including recognition systems and staff development.\\n  \\n- Strategic Planning\\n  - Description: The process of defining strategy, or direction, and making decisions on allocating resources to pursue this strategy, including setting goals and determining actions to achieve the goals.',\n",
       " '1. **Education**\\n   - Description: Topics related to academic goals, student performance, and attendance in educational institutions.\\n\\n2. **Student Achievement**\\n   - Description: Focus on measuring and improving student performance in various academic areas.\\n\\n3. **Attendance**\\n   - Description: Emphasis on maintaining and monitoring student attendance rates to meet educational standards.\\n\\n4. **Academic Performance Metrics**\\n   - Description: Use of specific data points and metrics, such as i-Ready diagnostic scores, to track and demonstrate academic growth in subjects like Math and ELA.\\n\\n5. **School Accreditation**\\n   - Description: Goals and efforts towards achieving higher accreditation status for educational institutions through meeting specific performance criteria.',\n",
       " '1. Education Standards\\n   - Description: Broad topic covering various aspects of educational benchmarks, including testing scores, proficiency levels, and curriculum standards.\\n\\n2. Student Achievement\\n   - Description: Encompasses the performance of students in various academic areas, including test scores, proficiency in subjects, and readiness for college or careers.\\n\\n3. Attendance\\n   - Description: Covers the tracking, reporting, and improvement strategies related to student attendance rates.\\n\\n4. Technology in Education\\n   - Description: Includes the integration of technology into educational settings, digital literacy, and the use of digital tools to enhance learning and instruction.\\n\\n5. Professional Development\\n   - Description: Pertains to the training and development opportunities for educators to enhance their teaching skills and integrate best practices into their instruction.\\n\\n6. Curriculum Development\\n   - Description: Involves the design, implementation, and evaluation of educational programs and standards to meet academic and career goals.\\n\\n7. Assessment and Evaluation\\n   - Description: Focuses on the methods and tools used to evaluate student learning, teacher effectiveness, and the overall performance of educational programs.',\n",
       " '1. Organizational Health\\n   - Description: Topics related to the overall health and effectiveness of an organization, including goal focus, employee engagement, and accountability measures.\\n\\n2. Performance Measurement\\n   - Description: Topics concerning the evaluation of performance through various metrics and benchmarks, including academic achievement and annual results.\\n\\n3. Academic Subjects\\n   - Description: Broad topics covering different areas of academic study such as English Language Arts (ELA), Mathematics, and Science.\\n\\n4. Student Behavior\\n   - Description: Topics related to student conduct and discipline, including behavior issues and disciplinary actions like out-of-school suspension (OSS) and in-school suspension (ISS).\\n\\n5. Attendance\\n   - Description: Topics focusing on student attendance rates, including policies and concerns related to tardiness and meeting attendance benchmarks.',\n",
       " '1. **Education Goals**\\n   - Description: Broad objectives set by educational institutions to improve various aspects of student learning and institutional performance.\\n\\n2. **Literacy Proficiency**\\n   - Description: The ability to read and write at a level necessary for effective communication and understanding.\\n\\n3. **Math Proficiency**\\n   - Description: The ability to understand, interpret, and work with numbers and mathematical concepts.\\n\\n4. **Student Support Programs**\\n   - Description: Initiatives and strategies designed to assist students in their learning processes, including those with special needs or from disadvantaged backgrounds.\\n\\n5. **Professional Development**\\n   - Description: Training and development opportunities for educators and staff to enhance their skills and effectiveness.\\n\\n6. **Parent and Community Engagement**\\n   - Description: Efforts to involve parents and the community in the educational process and school activities to support student learning.\\n\\n7. **Educational Assessment**\\n   - Description: The process of evaluating and measuring student learning, skills, abilities, and performance.',\n",
       " 'Based on the provided document content, the generalizable topics identified are:\\n\\n1. **Education**: This topic encompasses the processes, strategies, and initiatives involved in teaching and learning. It includes the planning and implementation of educational programs, curriculum development, and the assessment of educational outcomes.\\n\\n2. **Data Collection**: This topic involves the methods and processes used to gather information for various purposes. It includes the collection of data from different sources such as students, staff, and parents to inform decision-making and action steps in educational settings.\\n\\n3. **Program Evaluation**: This topic covers the assessment and analysis of programs to determine their effectiveness and impact. It includes evaluating the implementation and outcomes of educational initiatives to guide future actions and improvements.\\n\\nThese topics are broad enough to accommodate a wide range of subtopics related to the content of the document and provide comprehensive coverage over the entire document.',\n",
       " 'Education',\n",
       " '1. **Education Goals**\\n   - Description: Goals related to improving educational outcomes, including student proficiency in various content areas and the reduction of negative indicators such as absenteeism and low grades.\\n\\n2. **Assessment and Evaluation**\\n   - Description: Processes and tools used to evaluate student performance, including Common Formative Assessments and I-Ready Testing.\\n\\n3. **Student Performance Metrics**\\n   - Description: Specific metrics used to measure student performance and school effectiveness, including attendance rates, office referrals, and grade distribution.\\n\\n4. **Intervention Strategies**\\n   - Description: Strategies implemented to improve student outcomes and address areas of concern, aiming to increase proficiency and reduce negative indicators.\\n\\n5. **Data Collection and Analysis**\\n   - Description: The process of gathering and analyzing data to inform decisions and goals, including the creation of a building grade card based on collected data.']"
      ]
     },
     "execution_count": 54,
     "metadata": {},
     "output_type": "execute_result"
    }
   ],
   "source": [
    "topic_list"
   ]
  },
  {
   "cell_type": "code",
   "execution_count": 55,
   "id": "d988e318-95af-4ea5-8554-c685a43fced8",
   "metadata": {},
   "outputs": [],
   "source": [
    "with open('prompts/Topic_list_indiv_0shot.txt', 'w') as file:\n",
    "    for topic in topic_list:\n",
    "        file.write(topic + '\\n')"
   ]
  },
  {
   "cell_type": "code",
   "execution_count": 56,
   "id": "6b223e75-dcf1-4839-8e53-f5f6cd08cb22",
   "metadata": {},
   "outputs": [],
   "source": [
    "df.to_csv('prompts/detailed_topic_list_0shot.csv', encoding = 'latin-1', index = False)"
   ]
  },
  {
   "cell_type": "markdown",
   "id": "f5aa145a-7df2-43e0-a931-7acb275175df",
   "metadata": {},
   "source": [
    "# Merging Prompt"
   ]
  },
  {
   "cell_type": "code",
   "execution_count": 77,
   "id": "3e37d3a4-b72f-41e7-871d-04034705de3f",
   "metadata": {},
   "outputs": [],
   "source": [
    "def return_prompt2(ipt, document):\n",
    "    prompt = ipt.replace(\"{topic_list}\", document)\n",
    "    return prompt"
   ]
  },
  {
   "cell_type": "code",
   "execution_count": 78,
   "id": "d849e46d-49c1-4b89-b018-300619c56c43",
   "metadata": {},
   "outputs": [],
   "source": [
    "prompt = open(r\"prompts/merging_prompt.txt\", 'r')\n",
    "prompt = prompt.read()\n",
    "\n",
    "topic_l = open(r\"prompts/Topic_list_indiv_0shot.txt\", 'r')\n",
    "topic_l = topic_l.read()\n",
    "\n",
    "full_prompt = return_prompt2(prompt, topic_l)"
   ]
  },
  {
   "cell_type": "code",
   "execution_count": 79,
   "id": "9ed68d95-21a7-4703-aa80-1b1848604d6c",
   "metadata": {},
   "outputs": [],
   "source": [
    "response = openai.ChatCompletion.create(\n",
    "    model=\"gpt-4o-mini\",\n",
    "    messages=[\n",
    "        {\"role\": \"system\", \"content\": \"You are a helpful assistant.\"},\n",
    "        {\"role\": \"user\", \"content\": full_prompt}\n",
    "    ],\n",
    "    temperature=0.2,\n",
    "    max_tokens=4000\n",
    ")"
   ]
  },
  {
   "cell_type": "code",
   "execution_count": 80,
   "id": "6306959a-e626-4eee-b3b4-7efa455af05f",
   "metadata": {},
   "outputs": [
    {
     "data": {
      "text/plain": [
       "\"[1] Education\\n   - Description: Topics related to the process of teaching and learning, including specific programs, goals, metrics for success in academic environments, and the improvement of educational outcomes. This encompasses planning and implementation of educational programs, curriculum development, assessment of educational outcomes, goals related to improving educational outcomes such as student proficiency in various content areas, the reduction of negative indicators such as absenteeism and low grades, processes and tools used to evaluate student performance including Common Formative Assessments and I-Ready Testing, specific metrics used to measure student performance and school effectiveness including attendance rates, office referrals, and grade distribution, and strategies implemented to improve student outcomes and address areas of concern, aiming to increase proficiency and reduce negative indicators. It also includes the process of gathering and analyzing data to inform decisions and goals, including the creation of a building grade card based on collected data. (Education Goals, Assessment and Evaluation, Student Performance Metrics, Intervention Strategies, Data Collection and Analysis)\\n\\n[2] Professional Development\\n   - Description: Training and education provided to staff, including Dyslexia training and PBIS training, to enhance their skills and effectiveness in the classroom. Activities and programs designed to enhance the professional skills, knowledge, and effectiveness of educators. This includes strategies and measures to support, develop, and retain teaching staff, including surveys to gauge teacher satisfaction and support mechanisms. (Professional Development, Teacher Support and Development)\\n\\n[3] Student Support Services\\n   - Description: Services and interventions aimed at supporting students' academic and behavioral needs, including at-risk student identification and support plans. Initiatives and strategies designed to assist students in their learning processes, including those with special needs or from disadvantaged backgrounds. (Student Support Services, Student Support Programs)\\n\\n[4] Data Analysis and Reporting\\n   - Description: The collection, analysis, and reporting of student performance data to inform teaching practices and improve student outcomes. This includes the process of making decisions based on the analysis of data rather than intuition or observation alone, which involves the disaggregation of data to inform instructional decisions and policy. (Data Analysis and Reporting, Data-Driven Decision Making)\\n\\n[5] School Culture\\n   - Description: Efforts and strategies to establish a positive and inclusive culture within a school, focusing on character and behavioral expectations. The beliefs, perceptions, relationships, attitudes, and written and unwritten rules that shape and influence every aspect of how a school functions, including fostering a culture of collaboration, accountability, and innovation to achieve educational goals. (School Culture)\\n\\n[6] Educational Assessment\\n   - Description: The process and methods used to measure student performance and learning outcomes, including the use of MAP scores and state-required tests. This topic covers the use of tools and data analysis for evaluating student performance and instructional effectiveness, including the implementation of new assessment tools, analysis of assessment data, and the use of this data to inform instructional strategies. (Educational Assessment)\\n\\n[7] Attendance\\n   - Description: Topics focusing on student attendance rates, including policies and concerns related to tardiness and meeting attendance benchmarks. This topic covers the expectations and statistics related to student attendance, including daily attendance rates and annual average daily attendance (ADA) percentages. (Attendance)\\n\\n[8] Student Achievement\\n   - Description: Focus on measuring and improving student performance in various academic areas. Measures and goals related to student performance in academic areas such as Math and ELA, including setting targets for proficiency and advanced scores on standardized tests, improving literacy, and increasing overall student achievement metrics. (Student Achievement)\\n\\n[9] Curriculum Development\\n   - Description: The creation and organization of educational content and learning experiences in subjects such as Math, English Language Arts, and Science. The development, evaluation, and alignment of curriculum and assessments with academic standards to measure and enhance student learning. (Curriculum Development)\\n\\n[10] Community Engagement\\n    - Description: Efforts to involve parents and stakeholders in the educational process, including the establishment of committees to analyze data and contribute to decision-making. Strategies and plans for involving the local community, parents, and other stakeholders in the educational process and school activities. (Community Engagement)\""
      ]
     },
     "execution_count": 80,
     "metadata": {},
     "output_type": "execute_result"
    }
   ],
   "source": [
    "response.choices[0].message.content"
   ]
  },
  {
   "cell_type": "code",
   "execution_count": null,
   "id": "8d8cbedf-a0a4-434d-acc0-f3127640bf80",
   "metadata": {},
   "outputs": [],
   "source": [
    "with open('prompts/merged_topic_list.txt', 'w') as file:\n",
    "    file.write(response.choices[0].message.content)"
   ]
  },
  {
   "cell_type": "code",
   "execution_count": null,
   "id": "dc135fff-7c86-4970-b3ce-c6836628b8a1",
   "metadata": {},
   "outputs": [],
   "source": []
  },
  {
   "cell_type": "markdown",
   "id": "4bfee2da-a1c5-4275-9b08-c8f1327b5c8d",
   "metadata": {},
   "source": [
    "# Topic Assignment"
   ]
  },
  {
   "cell_type": "code",
   "execution_count": 5,
   "id": "f2bc7c51-17b4-4257-91c3-3fe94806a027",
   "metadata": {},
   "outputs": [],
   "source": [
    "def return_prompt2(ipt, topics, document):\n",
    "    prompt = ipt.replace(\"{TOPIC LIST}\", topics)\n",
    "    prompt = prompt.replace(\"{DOCUMENT}\", str(document))\n",
    "    return prompt"
   ]
  },
  {
   "cell_type": "code",
   "execution_count": null,
   "id": "69c9476c-395a-423a-99fb-6ec7e83c9279",
   "metadata": {},
   "outputs": [
    {
     "data": {
      "text/plain": [
       "2817"
      ]
     },
     "execution_count": 6,
     "metadata": {},
     "output_type": "execute_result"
    }
   ],
   "source": [
    "prompt = open(r\"prompts/topic_assignment_prompt.txt\", 'r')\n",
    "prompt = prompt.read()\n",
    "\n",
    "topics = open(r\"final-topic-list.txt\", 'r')\n",
    "topics = topics.read()\n",
    "\n",
    "data = 'data/all_bip_TM.csv'\n",
    "df = pd.read_csv(data, encoding = 'utf-8', sep=',')\n",
    "\n",
    "openai.api_key = ''\n",
    "len(df)"
   ]
  },
  {
   "cell_type": "code",
   "execution_count": null,
   "id": "191ec730-f55c-4529-9b26-c3124f74047a",
   "metadata": {},
   "outputs": [
    {
     "name": "stderr",
     "output_type": "stream",
     "text": [
      "100%|██████████| 2817/2817 [3:11:21<00:00,  4.08s/it]  \n"
     ]
    }
   ],
   "source": [
    "topic_list = []\n",
    "\n",
    "for i in tqdm(range(len(df))):\n",
    "    doc = df.loc[i, 'Text']\n",
    "    full_prompt = return_prompt2(prompt, topics, doc)\n",
    "    response = openai.ChatCompletion.create(\n",
    "        model=\"gpt-4o-mini\",\n",
    "        messages=[\n",
    "            {\"role\": \"system\", \"content\": \"You are a helpful assistant.\"},\n",
    "            {\"role\": \"user\", \"content\": full_prompt}\n",
    "        ],\n",
    "        temperature=0.2,\n",
    "        max_tokens=4000\n",
    "    )\n",
    "    topic = response.choices[0].message.content\n",
    "    df.loc[i, 'Assigned Topics by LLM'] = topic\n",
    "#     print(topic+\"\\n*****************\\n\\n\")\n",
    "    topic_list.append(topic)\n",
    "\n"
   ]
  },
  {
   "cell_type": "code",
   "execution_count": null,
   "id": "1d663c7c-e449-4f84-9bc0-2b9bd821a1f4",
   "metadata": {},
   "outputs": [],
   "source": [
    "df.to_csv('data/topic_assigned_data.csv',  index = False)"
   ]
  },
  {
   "cell_type": "code",
   "execution_count": 15,
   "id": "6809df8b-8bd0-4ede-aa25-14dfd0e6a92f",
   "metadata": {},
   "outputs": [],
   "source": []
  },
  {
   "cell_type": "code",
   "execution_count": 16,
   "id": "6880bc6d-b0e7-4630-b172-9e78391a7a8d",
   "metadata": {},
   "outputs": [],
   "source": []
  },
  {
   "cell_type": "code",
   "execution_count": 17,
   "id": "f4822092-eb18-4a8f-af72-d8924203ae7b",
   "metadata": {},
   "outputs": [
    {
     "data": {
      "text/html": [
       "<div>\n",
       "<style scoped>\n",
       "    .dataframe tbody tr th:only-of-type {\n",
       "        vertical-align: middle;\n",
       "    }\n",
       "\n",
       "    .dataframe tbody tr th {\n",
       "        vertical-align: top;\n",
       "    }\n",
       "\n",
       "    .dataframe thead th {\n",
       "        text-align: right;\n",
       "    }\n",
       "</style>\n",
       "<table border=\"1\" class=\"dataframe\">\n",
       "  <thead>\n",
       "    <tr style=\"text-align: right;\">\n",
       "      <th></th>\n",
       "      <th>PersonId</th>\n",
       "      <th>BuildingID</th>\n",
       "      <th>DistrictID</th>\n",
       "      <th>Text</th>\n",
       "      <th>SchoolYear</th>\n",
       "      <th>Assigned Topics by LLM</th>\n",
       "    </tr>\n",
       "  </thead>\n",
       "  <tbody>\n",
       "    <tr>\n",
       "      <th>3</th>\n",
       "      <td>00A2FBE6-BC16-E511-80C0-005056B067F1</td>\n",
       "      <td>7CF88B4E-CC34-4BAB-8EDD-AC6A00EC88D3</td>\n",
       "      <td>E3A2EA3F-5E13-E511-80C0-005056B067F1</td>\n",
       "      <td>1. Staff will create a common assessment to gi...</td>\n",
       "      <td>2020-2021</td>\n",
       "      <td>1. Academic Assessments  \\n2. Academic Goals  ...</td>\n",
       "    </tr>\n",
       "    <tr>\n",
       "      <th>4</th>\n",
       "      <td>00A2FBE6-BC16-E511-80C0-005056B067F1</td>\n",
       "      <td>7CF88B4E-CC34-4BAB-8EDD-AC6A00EC88D3</td>\n",
       "      <td>E3A2EA3F-5E13-E511-80C0-005056B067F1</td>\n",
       "      <td>1. Increase Student to Student Feedback in the...</td>\n",
       "      <td>2021-2022</td>\n",
       "      <td>1. Instruction\\n2. Academic Goals\\n\\nExplanati...</td>\n",
       "    </tr>\n",
       "    <tr>\n",
       "      <th>12</th>\n",
       "      <td>01FCCBE6-BC16-E511-80C0-005056B067F1</td>\n",
       "      <td>BBA6EA3F-5E13-E511-80C0-005056B067F1</td>\n",
       "      <td>82A2EA3F-5E13-E511-80C0-005056B067F1</td>\n",
       "      <td>Objective 1: Maintain or exceed the new attend...</td>\n",
       "      <td>2020-2021</td>\n",
       "      <td>1. Attendance\\n2. Academic Assessments\\n3. Aca...</td>\n",
       "    </tr>\n",
       "    <tr>\n",
       "      <th>13</th>\n",
       "      <td>01FCCBE6-BC16-E511-80C0-005056B067F1</td>\n",
       "      <td>BBA6EA3F-5E13-E511-80C0-005056B067F1</td>\n",
       "      <td>82A2EA3F-5E13-E511-80C0-005056B067F1</td>\n",
       "      <td>Objective 1: Maintain or exceed the new attend...</td>\n",
       "      <td>2021-2022</td>\n",
       "      <td>1. Attendance  \\n2. Academic Assessments  \\n3....</td>\n",
       "    </tr>\n",
       "    <tr>\n",
       "      <th>22</th>\n",
       "      <td>02A2FBE6-BC16-E511-80C0-005056B067F1</td>\n",
       "      <td>F6A5EA3F-5E13-E511-80C0-005056B067F1</td>\n",
       "      <td>C2A1EA3F-5E13-E511-80C0-005056B067F1</td>\n",
       "      <td>Building level goals were written and revised ...</td>\n",
       "      <td>2020-2021</td>\n",
       "      <td>1. Academic Goals\\n2. Behavioral Goals\\n3. Cur...</td>\n",
       "    </tr>\n",
       "    <tr>\n",
       "      <th>...</th>\n",
       "      <td>...</td>\n",
       "      <td>...</td>\n",
       "      <td>...</td>\n",
       "      <td>...</td>\n",
       "      <td>...</td>\n",
       "      <td>...</td>\n",
       "    </tr>\n",
       "    <tr>\n",
       "      <th>2795</th>\n",
       "      <td>FEC4DCE6-BC16-E511-80C0-005056B067F1</td>\n",
       "      <td>CEA9EA3F-5E13-E511-80C0-005056B067F1</td>\n",
       "      <td>CAA0EA3F-5E13-E511-80C0-005056B067F1</td>\n",
       "      <td>NaN</td>\n",
       "      <td>2021-2022</td>\n",
       "      <td>1. Academic Assessments\\n2. Academic Goals\\n3....</td>\n",
       "    </tr>\n",
       "    <tr>\n",
       "      <th>2801</th>\n",
       "      <td>FFACDCE6-BC16-E511-80C0-005056B067F1</td>\n",
       "      <td>FAA5EA3F-5E13-E511-80C0-005056B067F1</td>\n",
       "      <td>D1A1EA3F-5E13-E511-80C0-005056B067F1</td>\n",
       "      <td>NaN</td>\n",
       "      <td>2020-2021</td>\n",
       "      <td>1. Academic Assessments  \\n2. Academic Goals  ...</td>\n",
       "    </tr>\n",
       "    <tr>\n",
       "      <th>2802</th>\n",
       "      <td>FFACDCE6-BC16-E511-80C0-005056B067F1</td>\n",
       "      <td>FAA5EA3F-5E13-E511-80C0-005056B067F1</td>\n",
       "      <td>D1A1EA3F-5E13-E511-80C0-005056B067F1</td>\n",
       "      <td>Our 2021-2022 Building Goals: 1. Increase crit...</td>\n",
       "      <td>2021-2022</td>\n",
       "      <td>1. Academic Goals\\n2. Behavioral Goals\\n3. Ins...</td>\n",
       "    </tr>\n",
       "    <tr>\n",
       "      <th>2806</th>\n",
       "      <td>FFBDDCE6-BC16-E511-80C0-005056B067F1</td>\n",
       "      <td>4AA8EA3F-5E13-E511-80C0-005056B067F1</td>\n",
       "      <td>F0A1EA3F-5E13-E511-80C0-005056B067F1</td>\n",
       "      <td>Academic Goal: 100% of Hawk Point Elementary g...</td>\n",
       "      <td>2020-2021</td>\n",
       "      <td>1. Academic Goals\\n2. Attendance\\n3. Behaviora...</td>\n",
       "    </tr>\n",
       "    <tr>\n",
       "      <th>2807</th>\n",
       "      <td>FFBDDCE6-BC16-E511-80C0-005056B067F1</td>\n",
       "      <td>4AA8EA3F-5E13-E511-80C0-005056B067F1</td>\n",
       "      <td>F0A1EA3F-5E13-E511-80C0-005056B067F1</td>\n",
       "      <td>Academic Goal: 100% of Hawk Point Elementary g...</td>\n",
       "      <td>2021-2022</td>\n",
       "      <td>1. Academic Goals\\n2. Behavioral Goals\\n3. Att...</td>\n",
       "    </tr>\n",
       "  </tbody>\n",
       "</table>\n",
       "<p>529 rows × 6 columns</p>\n",
       "</div>"
      ],
      "text/plain": [
       "                                  PersonId  \\\n",
       "3     00A2FBE6-BC16-E511-80C0-005056B067F1   \n",
       "4     00A2FBE6-BC16-E511-80C0-005056B067F1   \n",
       "12    01FCCBE6-BC16-E511-80C0-005056B067F1   \n",
       "13    01FCCBE6-BC16-E511-80C0-005056B067F1   \n",
       "22    02A2FBE6-BC16-E511-80C0-005056B067F1   \n",
       "...                                    ...   \n",
       "2795  FEC4DCE6-BC16-E511-80C0-005056B067F1   \n",
       "2801  FFACDCE6-BC16-E511-80C0-005056B067F1   \n",
       "2802  FFACDCE6-BC16-E511-80C0-005056B067F1   \n",
       "2806  FFBDDCE6-BC16-E511-80C0-005056B067F1   \n",
       "2807  FFBDDCE6-BC16-E511-80C0-005056B067F1   \n",
       "\n",
       "                                BuildingID  \\\n",
       "3     7CF88B4E-CC34-4BAB-8EDD-AC6A00EC88D3   \n",
       "4     7CF88B4E-CC34-4BAB-8EDD-AC6A00EC88D3   \n",
       "12    BBA6EA3F-5E13-E511-80C0-005056B067F1   \n",
       "13    BBA6EA3F-5E13-E511-80C0-005056B067F1   \n",
       "22    F6A5EA3F-5E13-E511-80C0-005056B067F1   \n",
       "...                                    ...   \n",
       "2795  CEA9EA3F-5E13-E511-80C0-005056B067F1   \n",
       "2801  FAA5EA3F-5E13-E511-80C0-005056B067F1   \n",
       "2802  FAA5EA3F-5E13-E511-80C0-005056B067F1   \n",
       "2806  4AA8EA3F-5E13-E511-80C0-005056B067F1   \n",
       "2807  4AA8EA3F-5E13-E511-80C0-005056B067F1   \n",
       "\n",
       "                                DistrictID  \\\n",
       "3     E3A2EA3F-5E13-E511-80C0-005056B067F1   \n",
       "4     E3A2EA3F-5E13-E511-80C0-005056B067F1   \n",
       "12    82A2EA3F-5E13-E511-80C0-005056B067F1   \n",
       "13    82A2EA3F-5E13-E511-80C0-005056B067F1   \n",
       "22    C2A1EA3F-5E13-E511-80C0-005056B067F1   \n",
       "...                                    ...   \n",
       "2795  CAA0EA3F-5E13-E511-80C0-005056B067F1   \n",
       "2801  D1A1EA3F-5E13-E511-80C0-005056B067F1   \n",
       "2802  D1A1EA3F-5E13-E511-80C0-005056B067F1   \n",
       "2806  F0A1EA3F-5E13-E511-80C0-005056B067F1   \n",
       "2807  F0A1EA3F-5E13-E511-80C0-005056B067F1   \n",
       "\n",
       "                                                   Text SchoolYear  \\\n",
       "3     1. Staff will create a common assessment to gi...  2020-2021   \n",
       "4     1. Increase Student to Student Feedback in the...  2021-2022   \n",
       "12    Objective 1: Maintain or exceed the new attend...  2020-2021   \n",
       "13    Objective 1: Maintain or exceed the new attend...  2021-2022   \n",
       "22    Building level goals were written and revised ...  2020-2021   \n",
       "...                                                 ...        ...   \n",
       "2795                                                NaN  2021-2022   \n",
       "2801                                                NaN  2020-2021   \n",
       "2802  Our 2021-2022 Building Goals: 1. Increase crit...  2021-2022   \n",
       "2806  Academic Goal: 100% of Hawk Point Elementary g...  2020-2021   \n",
       "2807  Academic Goal: 100% of Hawk Point Elementary g...  2021-2022   \n",
       "\n",
       "                                 Assigned Topics by LLM  \n",
       "3     1. Academic Assessments  \\n2. Academic Goals  ...  \n",
       "4     1. Instruction\\n2. Academic Goals\\n\\nExplanati...  \n",
       "12    1. Attendance\\n2. Academic Assessments\\n3. Aca...  \n",
       "13    1. Attendance  \\n2. Academic Assessments  \\n3....  \n",
       "22    1. Academic Goals\\n2. Behavioral Goals\\n3. Cur...  \n",
       "...                                                 ...  \n",
       "2795  1. Academic Assessments\\n2. Academic Goals\\n3....  \n",
       "2801  1. Academic Assessments  \\n2. Academic Goals  ...  \n",
       "2802  1. Academic Goals\\n2. Behavioral Goals\\n3. Ins...  \n",
       "2806  1. Academic Goals\\n2. Attendance\\n3. Behaviora...  \n",
       "2807  1. Academic Goals\\n2. Behavioral Goals\\n3. Att...  \n",
       "\n",
       "[529 rows x 6 columns]"
      ]
     },
     "execution_count": 17,
     "metadata": {},
     "output_type": "execute_result"
    }
   ],
   "source": []
  },
  {
   "cell_type": "code",
   "execution_count": 93,
   "id": "2a299a55-ec71-4475-8414-ca3dd015a7dd",
   "metadata": {},
   "outputs": [],
   "source": [
    "df = pd.read_csv('data/Topic Analysis Results/All-Data-Topic Analysis.csv', sep =',')"
   ]
  },
  {
   "cell_type": "code",
   "execution_count": 101,
   "id": "e3d620aa-2efc-4f25-a925-ea5e7499b371",
   "metadata": {},
   "outputs": [],
   "source": [
    "c = 0\n",
    "haha = []\n",
    "for i in range(len(df)):\n",
    "    line = df.loc[i, 'Assigned Topics by LLM'].split('Explanation:')\n",
    "#     print(line)\n",
    "    if len(line) == 2:\n",
    "        df.loc[i, 'Topics'] = line[0]\n",
    "        df.loc[i, 'Explanation'] = line[1]\n",
    "    else:\n",
    "        haha.append(i)\n",
    "        df.loc[i, 'Explanation'] = 'I\\'m unable to access external documents, including Google Docs.'\n",
    "\n"
   ]
  },
  {
   "cell_type": "code",
   "execution_count": 108,
   "id": "6737ba04-99fe-4571-b8b3-c76658f07e6a",
   "metadata": {},
   "outputs": [],
   "source": [
    "df.to_csv('data/Topic-Analysis-Column_divided/All-Data-Topic Analysis.csv',  index = False)"
   ]
  },
  {
   "cell_type": "code",
   "execution_count": 109,
   "id": "268566e4-b701-4d2f-aac2-733b30642ada",
   "metadata": {},
   "outputs": [],
   "source": [
    "school_years_to_keep = ['2017-2018', '2018-2019']\n",
    "\n",
    "# Filter the rows based on the school year\n",
    "filtered_df = df[df['SchoolYear'].isin(school_years_to_keep)]\n",
    "filtered_df.to_csv('data/Topic-Analysis-Column_divided/pre-pandemic-topic-analysis.csv',  index = False)\n",
    "\n",
    "\n",
    "school_years_to_keep = ['2020-2021', '2021-2022']\n",
    "\n",
    "# Filter the rows based on the school year\n",
    "filtered_df = df[df['SchoolYear'].isin(school_years_to_keep)]\n",
    "filtered_df.to_csv('data/Topic-Analysis-Column_divided/post-pandemic-topic-analysis.csv',  index = False)\n"
   ]
  },
  {
   "cell_type": "code",
   "execution_count": 103,
   "id": "92178663-6e03-461c-81b2-d93b95b6902d",
   "metadata": {},
   "outputs": [
    {
     "data": {
      "text/plain": [
       "PersonId                               72FACBE6-BC16-E511-80C0-005056B067F1\n",
       "BuildingID                             BCA7EA3F-5E13-E511-80C0-005056B067F1\n",
       "DistrictID                             33A1EA3F-5E13-E511-80C0-005056B067F1\n",
       "Text                               See attachedSee attached\\n\\nSee Attached\n",
       "SchoolYear                                                        2021-2022\n",
       "Assigned Topics by LLM    It seems that there is no document attached fo...\n",
       "Topics                                                                  NaN\n",
       "Explanation               I'm unable to access external documents, inclu...\n",
       "Name: 1264, dtype: object"
      ]
     },
     "execution_count": 103,
     "metadata": {},
     "output_type": "execute_result"
    }
   ],
   "source": [
    "df.loc[1264]"
   ]
  },
  {
   "cell_type": "code",
   "execution_count": 107,
   "id": "f13a0e91-4ddf-45ae-ad80-2bc5b4bf9891",
   "metadata": {},
   "outputs": [
    {
     "data": {
      "text/plain": [
       "PersonId                               F7AC5738-956C-E711-80E1-005056B067F1\n",
       "BuildingID                             E2AAEA3F-5E13-E511-80C0-005056B067F1\n",
       "DistrictID                             33A1EA3F-5E13-E511-80C0-005056B067F1\n",
       "Text                                           See LinkSee Link\\n\\nSee Link\n",
       "SchoolYear                                                        2021-2022\n",
       "Assigned Topics by LLM    I'm sorry, but it seems that the document you ...\n",
       "Topics                                                                  NaN\n",
       "Explanation               I'm unable to access external documents, inclu...\n",
       "Name: 2730, dtype: object"
      ]
     },
     "execution_count": 107,
     "metadata": {},
     "output_type": "execute_result"
    }
   ],
   "source": [
    "df.loc[2730]"
   ]
  },
  {
   "cell_type": "code",
   "execution_count": null,
   "id": "22db20a4-c3e6-4aa5-bba9-619e9eb4a736",
   "metadata": {},
   "outputs": [],
   "source": []
  }
 ],
 "metadata": {
  "kernelspec": {
   "display_name": "Python 3",
   "language": "python",
   "name": "python3"
  },
  "language_info": {
   "codemirror_mode": {
    "name": "ipython",
    "version": 3
   },
   "file_extension": ".py",
   "mimetype": "text/x-python",
   "name": "python",
   "nbconvert_exporter": "python",
   "pygments_lexer": "ipython3",
   "version": "3.8.8"
  }
 },
 "nbformat": 4,
 "nbformat_minor": 5
}
